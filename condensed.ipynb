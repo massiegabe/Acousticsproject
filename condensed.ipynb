{
 "cells": [
  {
   "cell_type": "code",
   "execution_count": 1,
   "id": "bd5c130f",
   "metadata": {},
   "outputs": [],
   "source": [
    "import pandas as pd\n",
    "import numpy as np\n",
    "import matplotlib.pyplot as plt\n",
    "from scipy.fftpack import fft\n",
    "from scipy.io import wavfile"
   ]
  },
  {
   "cell_type": "code",
   "execution_count": null,
   "id": "e5c5e774",
   "metadata": {},
   "outputs": [],
   "source": [
    "def dur(sr,data):\n",
    "     duration = len(data) / sr\n",
    "     return duration\n",
    "def t_array(data,duration):\n",
    "    time_array= np.linspace(0,duration,len(data))\n",
    "    return time_array\n",
    "def fftdata(sr,data):\n",
    "    if data.ndim > 1:\n",
    "            data = data[:, 0]\n",
    "    return data\n",
    "def fftresult(sr,data):\n",
    "    fft_result = np.fft.fft(data)\n",
    "    # Calculate frequencies corresponding to the FFT result\n",
    "    frequencies = np.fft.fftfreq(len(data), d=1/sr)\n",
    "    return frequencies"
   ]
  }
 ],
 "metadata": {
  "kernelspec": {
   "display_name": ".conda",
   "language": "python",
   "name": "python3"
  },
  "language_info": {
   "codemirror_mode": {
    "name": "ipython",
    "version": 3
   },
   "file_extension": ".py",
   "mimetype": "text/x-python",
   "name": "python",
   "nbconvert_exporter": "python",
   "pygments_lexer": "ipython3",
   "version": "3.12.3"
  }
 },
 "nbformat": 4,
 "nbformat_minor": 5
}
